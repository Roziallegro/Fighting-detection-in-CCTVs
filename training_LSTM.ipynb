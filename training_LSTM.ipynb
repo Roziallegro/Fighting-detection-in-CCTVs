{
 "cells": [
  {
   "cell_type": "code",
   "execution_count": 1,
   "metadata": {
    "execution": {
     "iopub.execute_input": "2025-04-22T00:37:30.546905Z",
     "iopub.status.busy": "2025-04-22T00:37:30.546112Z",
     "iopub.status.idle": "2025-04-22T00:37:32.864538Z",
     "shell.execute_reply": "2025-04-22T00:37:32.863587Z",
     "shell.execute_reply.started": "2025-04-22T00:37:30.546905Z"
    }
   },
   "outputs": [
    {
     "data": {
      "text/plain": [
       "True"
      ]
     },
     "execution_count": 1,
     "metadata": {},
     "output_type": "execute_result"
    }
   ],
   "source": [
    "import torch\n",
    "torch.cuda.is_available()"
   ]
  },
  {
   "cell_type": "markdown",
   "metadata": {},
   "source": [
    "## Load yolov7 to obtain keypoints"
   ]
  },
  {
   "cell_type": "code",
   "execution_count": 2,
   "metadata": {
    "execution": {
     "iopub.execute_input": "2025-04-22T00:37:33.812145Z",
     "iopub.status.busy": "2025-04-22T00:37:33.812145Z",
     "iopub.status.idle": "2025-04-22T00:37:36.193665Z",
     "shell.execute_reply": "2025-04-22T00:37:36.192673Z",
     "shell.execute_reply.started": "2025-04-22T00:37:33.812145Z"
    }
   },
   "outputs": [],
   "source": [
    "import cv2\n",
    "import matplotlib.pyplot as plt\n",
    "import numpy as np\n",
    "import os\n",
    "import sys\n",
    "import torch\n",
    "import time\n",
    "from torch.utils.data import Dataset, DataLoader\n",
    "\n",
    "\n",
    "from torchvision import transforms\n",
    "from PIL import Image\n"
   ]
  },
  {
   "cell_type": "code",
   "execution_count": 3,
   "metadata": {
    "execution": {
     "iopub.execute_input": "2025-04-22T00:37:40.791669Z",
     "iopub.status.busy": "2025-04-22T00:37:40.791669Z",
     "iopub.status.idle": "2025-04-22T00:37:40.803334Z",
     "shell.execute_reply": "2025-04-22T00:37:40.799783Z",
     "shell.execute_reply.started": "2025-04-22T00:37:40.791669Z"
    }
   },
   "outputs": [
    {
     "name": "stdout",
     "output_type": "stream",
     "text": [
      "/notebooks/Fighting-detection-in-CCTVs/yolov7\n"
     ]
    }
   ],
   "source": [
    "# Change directory to \"/yolov7\"\n",
    "os.chdir(\"yolov7\")\n",
    "print(os.getcwd()) \n",
    "\n",
    "\n",
    "###############################################################################\n",
    "\n",
    "# Move one directory up\n",
    "# os.chdir(os.path.dirname(os.getcwd()))\n",
    "# print(os.getcwd()) "
   ]
  },
  {
   "cell_type": "code",
   "execution_count": 4,
   "metadata": {
    "execution": {
     "iopub.execute_input": "2025-04-22T00:37:44.532631Z",
     "iopub.status.busy": "2025-04-22T00:37:44.532282Z",
     "iopub.status.idle": "2025-04-22T00:37:48.407965Z",
     "shell.execute_reply": "2025-04-22T00:37:48.407319Z",
     "shell.execute_reply.started": "2025-04-22T00:37:44.532611Z"
    }
   },
   "outputs": [
    {
     "name": "stdout",
     "output_type": "stream",
     "text": [
      "Loading model:  yolov7-pose...\n",
      "Model loaded.\n"
     ]
    }
   ],
   "source": [
    "from utils.datasets import letterbox\n",
    "from utils.general import non_max_suppression_kpt\n",
    "from utils.plots import output_to_keypoint, plot_skeleton_kpts\n",
    "\n",
    "device = torch.device(\"cuda:0\" if torch.cuda.is_available() else \"cpu\")\n",
    "\n",
    "\n",
    "###############################################################################\n",
    "\n",
    "# Load yolov7 pose detector model\n",
    "print(\"Loading model: \", \"yolov7-pose...\")\n",
    "weights_path = \"yolov7-w6-pose.pt\"\n",
    "model_yolov7 = torch.load(weights_path, map_location=device, weights_only=False)['model']\n",
    "print(\"Model loaded.\")\n",
    "\n",
    "model_yolov7.float().eval()\n",
    "\n",
    "if torch.cuda.is_available():\n",
    "    # half() turns predictions into float16 tensors --> significantly lowers inference time\n",
    "    model_yolov7.half().to(device)"
   ]
  },
  {
   "cell_type": "markdown",
   "metadata": {},
   "source": [
    "## Image inference code for testing"
   ]
  },
  {
   "cell_type": "code",
   "execution_count": 5,
   "metadata": {
    "execution": {
     "iopub.execute_input": "2025-04-22T00:37:52.633195Z",
     "iopub.status.busy": "2025-04-22T00:37:52.632410Z",
     "iopub.status.idle": "2025-04-22T00:37:52.643248Z",
     "shell.execute_reply": "2025-04-22T00:37:52.642320Z",
     "shell.execute_reply.started": "2025-04-22T00:37:52.633161Z"
    }
   },
   "outputs": [],
   "source": [
    "\n",
    "# Main inference\n",
    "def infer(image):\n",
    "    image = letterbox(image, 960, \n",
    "                      stride=64,\n",
    "                      auto=True)[0]  # shape: (567, 960, 3)\n",
    "    \n",
    "    image = transforms.ToTensor()(image)  # torch.Size([3, 567, 960])\n",
    "\n",
    "    if torch.cuda.is_available():\n",
    "        image = image.half().to(device)\n",
    "\n",
    "    image = image.unsqueeze(0)  # torch.Size([1, 3, 567, 960])\n",
    "\n",
    "    with torch.no_grad():\n",
    "        output, _ = model_yolov7(image)\n",
    "\n",
    "    return output, image\n",
    "\n",
    "\n",
    "###############################################################################\n",
    "\n",
    "# Draw YOLOv7 pose keypoints and optionally return keypoints for saving.\n",
    "def draw_keypoints(output, image, confidence=0.25, threshold=0.65, return_kpts=True):\n",
    "    output = non_max_suppression_kpt(\n",
    "        output,\n",
    "        confidence,\n",
    "        threshold,\n",
    "        nc=model_yolov7.yaml['nc'],\n",
    "        nkpt=model_yolov7.yaml['nkpt'],\n",
    "        kpt_label=True)\n",
    "\n",
    "    with torch.no_grad():\n",
    "        # shape: (num_people, 51)\n",
    "        output = output_to_keypoint(output)  \n",
    "\n",
    "    # Convert tensor image back to numpy\n",
    "    nimg = image[0].permute(1, 2, 0) * 255\n",
    "    nimg = cv2.cvtColor(nimg.cpu().numpy().astype(np.uint8), cv2.COLOR_RGB2BGR)\n",
    "\n",
    "    # Correctly loop through 'output' variable instead of 'kpts'\n",
    "    for idx in range(output.shape[0]):\n",
    "        plot_skeleton_kpts(nimg, output[idx, 7:].T, 3)\n",
    "\n",
    "    if return_kpts:\n",
    "        # (image with keypoints drawn, raw keypoints)\n",
    "        return nimg, output  \n",
    "\n",
    "    return nimg\n"
   ]
  },
  {
   "cell_type": "markdown",
   "metadata": {},
   "source": [
    "## Create custom dataloader\n",
    "- includes pre-processing via yolov7 pose estimator"
   ]
  },
  {
   "cell_type": "code",
   "execution_count": 19,
   "metadata": {
    "execution": {
     "iopub.execute_input": "2025-04-22T01:59:53.819325Z",
     "iopub.status.busy": "2025-04-22T01:59:53.816874Z",
     "iopub.status.idle": "2025-04-22T01:59:53.835324Z",
     "shell.execute_reply": "2025-04-22T01:59:53.834890Z",
     "shell.execute_reply.started": "2025-04-22T01:59:53.819325Z"
    }
   },
   "outputs": [],
   "source": [
    "\n",
    "class VideoDataset(Dataset):\n",
    "    def __init__(self, video_files, video_folder, sequence_len=24):\n",
    "        self.video_folder = video_folder\n",
    "        self.video_files = video_files\n",
    "        self.sequence_len = sequence_len\n",
    "        self.data = self._load_data()\n",
    "\n",
    "    \n",
    "    \n",
    "    def _load_data(self):\n",
    "        data = []\n",
    "        \n",
    "        for video_file in self.video_files:\n",
    "            video_path = os.path.join(self.video_folder, video_file)\n",
    "            # if the video name is \"nofixxx.mp4\", this means no-fight --> 0\n",
    "            # if \"NV_xx.mp4\" means no-fight\n",
    "            if \"nofi\" in video_file or \"NV\" in video_file:\n",
    "                label = 0\n",
    "            else:\n",
    "                label = 1\n",
    "                                      \n",
    "            capture = cv2.VideoCapture(video_path)\n",
    "            fps = int(capture.get(cv2.CAP_PROP_FPS))\n",
    "            total_frames = int(capture.get(cv2.CAP_PROP_FRAME_COUNT))\n",
    "             \n",
    "            frames = []\n",
    "            # for idx in range(0, total_frames, fps): # use this to sample one frame per second\n",
    "            for idx in range(0, total_frames, 2): # use this to sample all frames in the video\n",
    "                capture.set(cv2.CAP_PROP_POS_FRAMES, idx)\n",
    "                ret, frame = capture.read()\n",
    "                if ret:\n",
    "                    try:\n",
    "                        # Process the frame\n",
    "                        frame_rgb = cv2.cvtColor(frame, cv2.COLOR_BGR2RGB)\n",
    "                        output, image_tensor = infer(frame_rgb)\n",
    "                        _, keypoints = draw_keypoints(output, image_tensor, return_kpts=True)\n",
    "\n",
    "                        if keypoints is not None and keypoints.shape[0] > 0:\n",
    "                            # Only the 17 keypoints\n",
    "                            first_person_kpts = keypoints[0, 7:]  \n",
    "                            # Shape: (17, 3)\n",
    "                            keypoints = first_person_kpts.reshape(-1, 3)  \n",
    "\n",
    "                        else:\n",
    "                            # Pad with zeros if no keypoints\n",
    "                            keypoints = np.zeros((17, 3)) \n",
    "\n",
    "                        # Keep the frames in sequence of length --> required for LSTM\n",
    "                        frames.append(keypoints)\n",
    "\n",
    "                        # We only want the keypoints in numpy version and labels\n",
    "                        if len(frames) == self.sequence_len:\n",
    "                            data.append((np.array(frames), label))\n",
    "                            frames = []\n",
    "                            \n",
    "                    except cv2.error as e:\n",
    "                        # If there are errors, skip it\n",
    "                        print(f\"Error processing frame: {e}\")\n",
    "                        continue\n",
    "                        \n",
    "            capture.release()\n",
    "        return data\n",
    "    \n",
    "    def __len__(self):\n",
    "        return len(self.data)\n",
    "\n",
    "    def __getitem__(self, idx):\n",
    "        keypoints, label = self.data[idx]\n",
    "        # Convert to pytorch from numpy\n",
    "        keypoints = torch.from_numpy(keypoints).float()\n",
    "        # Flatten (17, 3) to (51)\n",
    "        keypoints = keypoints.view(self.sequence_len, -1) \n",
    "        return keypoints, label\n"
   ]
  },
  {
   "cell_type": "code",
   "execution_count": 88,
   "metadata": {
    "execution": {
     "iopub.execute_input": "2025-04-21T10:47:24.071746Z",
     "iopub.status.busy": "2025-04-21T10:47:24.071746Z",
     "iopub.status.idle": "2025-04-21T12:24:35.533335Z",
     "shell.execute_reply": "2025-04-21T12:24:35.532026Z",
     "shell.execute_reply.started": "2025-04-21T10:47:24.071746Z"
    }
   },
   "outputs": [
    {
     "name": "stdout",
     "output_type": "stream",
     "text": [
      "Preparing dataloaders...\n",
      "Splitting data...\n",
      "Train dataset compiled...\n",
      "Validation dataset compiled...\n",
      "Test dataset compiled...\n",
      "Train dataloader compiled...\n",
      "Validation dataloader compiled...\n",
      "Test dataloader compiled...\n"
     ]
    }
   ],
   "source": [
    "from torch.utils.data import DataLoader\n",
    "from sklearn.model_selection import train_test_split\n",
    "\n",
    "print(\"Preparing dataloaders...\")\n",
    "\n",
    "video_folder = \"../fight-detection-4\"\n",
    "video_files = [f for f in os.listdir(video_folder) if f.endswith((\".mp4\", \".avi\", \".mov\", \".mpeg\"))]\n",
    "\n",
    "\n",
    "###############################################################################\n",
    "\n",
    "print(\"Splitting data...\")\n",
    "# Split dataset such that 20% of data is used for testing, remaining 80% for training + validation\n",
    "train_files, test_files = train_test_split(video_files, test_size=0.2, random_state=42)\n",
    "# Split dataset such that 60% of data is used for training, remaining 20% for validation\n",
    "train_files, val_files = train_test_split(train_files, test_size=0.25, random_state=42) # 0.25 * 0.8 = 0.2\n",
    "\n",
    "###############################################################################\n",
    "\n",
    "train_dataset = VideoDataset(train_files, video_folder)\n",
    "print(\"Train dataset compiled...\")\n",
    "val_dataset = VideoDataset(val_files, video_folder)\n",
    "print(\"Validation dataset compiled...\")\n",
    "test_dataset = VideoDataset(test_files, video_folder)\n",
    "print(\"Test dataset compiled...\")\n",
    "\n",
    "train_loader = DataLoader(train_dataset, batch_size=32, shuffle=True)\n",
    "print(\"Train dataloader compiled...\")        \n",
    "val_loader = DataLoader(val_dataset, batch_size=32, shuffle=False)\n",
    "print(\"Validation dataloader compiled...\")\n",
    "test_loader = DataLoader(test_dataset, batch_size=32, shuffle=False)\n",
    "print(\"Test dataloader compiled...\")\n",
    "\n"
   ]
  },
  {
   "cell_type": "markdown",
   "metadata": {},
   "source": [
    "## Previous dataloader\n",
    "- where each video is processed with their own skeletal points in numpy array\n",
    "- to be saved in a numpy file\n",
    "- this dataloader groups the corresponding adjacent files together\n",
    "- but due to memory concerns, this dataloader has been changed"
   ]
  },
  {
   "cell_type": "code",
   "execution_count": null,
   "metadata": {},
   "outputs": [],
   "source": [
    "from torch.utils.data import Dataset\n",
    "import os\n",
    "import numpy as np\n",
    "import torch\n",
    "\n",
    "# String together the related keyframes into a sequence for learning\n",
    "class PoseSequenceDataset(Dataset):\n",
    "    def __init__(self, frame_dir, sequence_len=30, label=1):  # <-- This line is important\n",
    "        self.frame_dir = frame_dir\n",
    "        self.sequence_len = sequence_len\n",
    "        self.label = label\n",
    "\n",
    "        # Sort all keypoint files\n",
    "        self.keypoint_files = sorted([\n",
    "            os.path.join(frame_dir, f) for f in os.listdir(frame_dir) if f.endswith('.npy')\n",
    "        ])\n",
    "\n",
    "        # Create sequences\n",
    "        self.sequences = [\n",
    "            self.keypoint_files[i:i+sequence_len]\n",
    "            for i in range(0, len(self.keypoint_files) - sequence_len + 1, sequence_len)\n",
    "        ]\n",
    "\n",
    "    def __len__(self):\n",
    "        return len(self.sequences)\n",
    "\n",
    "    def __getitem__(self, idx):\n",
    "        sequence_paths = self.sequences[idx]\n",
    "        # (seq_len, 17, 2)\n",
    "        sequence = np.array([np.load(p)[:, :2] for p in sequence_paths])  \n",
    "        # (seq_len, 34)\n",
    "        sequence = sequence.reshape(self.sequence_len, -1)  \n",
    "        return torch.tensor(sequence, dtype=torch.float32), torch.tensor(self.label, dtype=torch.long)\n"
   ]
  },
  {
   "cell_type": "markdown",
   "metadata": {},
   "source": [
    "### Create pytorch instance of (vanilla) LSTM"
   ]
  },
  {
   "cell_type": "code",
   "execution_count": 8,
   "metadata": {
    "execution": {
     "iopub.execute_input": "2025-04-22T00:38:40.689367Z",
     "iopub.status.busy": "2025-04-22T00:38:40.688960Z",
     "iopub.status.idle": "2025-04-22T00:38:40.765026Z",
     "shell.execute_reply": "2025-04-22T00:38:40.764194Z",
     "shell.execute_reply.started": "2025-04-22T00:38:40.689343Z"
    }
   },
   "outputs": [
    {
     "data": {
      "text/plain": [
       "FightClassifierLSTM(\n",
       "  (lstm): LSTM(51, 64, num_layers=2, batch_first=True)\n",
       "  (fc): Linear(in_features=64, out_features=1, bias=True)\n",
       ")"
      ]
     },
     "execution_count": 8,
     "metadata": {},
     "output_type": "execute_result"
    }
   ],
   "source": [
    "import torch.nn as nn\n",
    "\n",
    "class FightClassifierLSTM(nn.Module):\n",
    "    def __init__(self, input_size=51, hidden_size=64, num_layers=2, num_classes=1):\n",
    "        super(FightClassifierLSTM, self).__init__()\n",
    "        self.lstm = nn.LSTM(input_size, hidden_size, num_layers, batch_first=True)\n",
    "        self.fc = nn.Linear(hidden_size, num_classes)\n",
    "\n",
    "    def forward(self, x):\n",
    "        # x: (batch, seq_len, input_size)\n",
    "        out, _ = self.lstm(x)  \n",
    "        # Use last time step\n",
    "        out = out[:, -1, :] \n",
    "        # Output logits --> to be used with sigmoid or torch.max() later on\n",
    "        out = self.fc(out)     \n",
    "        return out\n",
    "    \n",
    "###############################################################################\n",
    "\n",
    "model_lstm = FightClassifierLSTM()\n",
    "model_lstm.to(device)"
   ]
  },
  {
   "cell_type": "markdown",
   "metadata": {},
   "source": [
    "## Train LSTM on fighting and non-fighting datasets\n",
    "- lr = 0.001\n",
    "- epochs = 100\n",
    "- Adam optimiser"
   ]
  },
  {
   "cell_type": "code",
   "execution_count": 89,
   "metadata": {
    "execution": {
     "iopub.execute_input": "2025-04-21T13:14:50.943960Z",
     "iopub.status.busy": "2025-04-21T13:14:50.943125Z",
     "iopub.status.idle": "2025-04-21T13:14:50.977195Z",
     "shell.execute_reply": "2025-04-21T13:14:50.976214Z",
     "shell.execute_reply.started": "2025-04-21T13:14:50.943920Z"
    }
   },
   "outputs": [
    {
     "data": {
      "text/plain": [
       "<All keys matched successfully>"
      ]
     },
     "execution_count": 89,
     "metadata": {},
     "output_type": "execute_result"
    }
   ],
   "source": [
    "# Load any previous saved epochs for further fine tuning\n",
    "model_lstm.load_state_dict(torch.load('../model_epoch_recent_lstm_data4.pth'))"
   ]
  },
  {
   "cell_type": "code",
   "execution_count": 90,
   "metadata": {
    "execution": {
     "iopub.execute_input": "2025-04-21T13:15:07.264984Z",
     "iopub.status.busy": "2025-04-21T13:15:07.264676Z",
     "iopub.status.idle": "2025-04-21T13:15:15.363925Z",
     "shell.execute_reply": "2025-04-21T13:15:15.358596Z",
     "shell.execute_reply.started": "2025-04-21T13:15:07.264960Z"
    }
   },
   "outputs": [
    {
     "name": "stdout",
     "output_type": "stream",
     "text": [
      "Predicted value: tensor([[1.],\n",
      "        [1.],\n",
      "        [1.],\n",
      "        [1.],\n",
      "        [1.],\n",
      "        [1.],\n",
      "        [1.],\n",
      "        [0.],\n",
      "        [1.],\n",
      "        [0.],\n",
      "        [0.],\n",
      "        [1.],\n",
      "        [1.],\n",
      "        [0.],\n",
      "        [0.],\n",
      "        [1.],\n",
      "        [0.],\n",
      "        [0.],\n",
      "        [1.],\n",
      "        [1.],\n",
      "        [1.],\n",
      "        [1.],\n",
      "        [1.],\n",
      "        [1.],\n",
      "        [1.],\n",
      "        [0.],\n",
      "        [1.],\n",
      "        [0.],\n",
      "        [0.],\n",
      "        [0.],\n",
      "        [0.],\n",
      "        [1.]], grad_fn=<ToCopyBackward0>)\n",
      "Label: tensor([[1.],\n",
      "        [0.],\n",
      "        [0.],\n",
      "        [1.],\n",
      "        [0.],\n",
      "        [1.],\n",
      "        [0.],\n",
      "        [1.],\n",
      "        [1.],\n",
      "        [0.],\n",
      "        [1.],\n",
      "        [0.],\n",
      "        [1.],\n",
      "        [1.],\n",
      "        [0.],\n",
      "        [1.],\n",
      "        [0.],\n",
      "        [1.],\n",
      "        [1.],\n",
      "        [1.],\n",
      "        [0.],\n",
      "        [1.],\n",
      "        [1.],\n",
      "        [0.],\n",
      "        [0.],\n",
      "        [1.],\n",
      "        [0.],\n",
      "        [1.],\n",
      "        [0.],\n",
      "        [1.],\n",
      "        [0.],\n",
      "        [0.]])\n",
      "Predicted value: tensor([[0.],\n",
      "        [1.],\n",
      "        [0.],\n",
      "        [0.],\n",
      "        [1.],\n",
      "        [0.],\n",
      "        [1.],\n",
      "        [1.],\n",
      "        [0.],\n",
      "        [1.],\n",
      "        [1.],\n",
      "        [0.],\n",
      "        [0.],\n",
      "        [0.],\n",
      "        [1.],\n",
      "        [0.],\n",
      "        [0.],\n",
      "        [1.],\n",
      "        [1.],\n",
      "        [1.],\n",
      "        [0.],\n",
      "        [1.],\n",
      "        [1.],\n",
      "        [1.],\n",
      "        [0.],\n",
      "        [0.],\n",
      "        [0.],\n",
      "        [1.],\n",
      "        [0.],\n",
      "        [1.],\n",
      "        [1.],\n",
      "        [0.]], grad_fn=<ToCopyBackward0>)\n",
      "Label: tensor([[1.],\n",
      "        [1.],\n",
      "        [1.],\n",
      "        [1.],\n",
      "        [0.],\n",
      "        [1.],\n",
      "        [0.],\n",
      "        [0.],\n",
      "        [1.],\n",
      "        [1.],\n",
      "        [0.],\n",
      "        [0.],\n",
      "        [1.],\n",
      "        [0.],\n",
      "        [1.],\n",
      "        [1.],\n",
      "        [0.],\n",
      "        [0.],\n",
      "        [0.],\n",
      "        [0.],\n",
      "        [1.],\n",
      "        [0.],\n",
      "        [0.],\n",
      "        [0.],\n",
      "        [1.],\n",
      "        [0.],\n",
      "        [1.],\n",
      "        [1.],\n",
      "        [0.],\n",
      "        [0.],\n",
      "        [1.],\n",
      "        [1.]])\n",
      "Epoch [1/100], Loss: 0.7018\n",
      "Epoch [2/100], Loss: 0.7060\n",
      "Epoch [3/100], Loss: 0.7099\n",
      "Epoch [4/100], Loss: 0.6965\n",
      "Epoch [5/100], Loss: 0.6956\n",
      "Epoch [6/100], Loss: 0.7046\n",
      "Epoch [7/100], Loss: 0.7040\n",
      "Epoch [8/100], Loss: 0.6994\n",
      "Epoch [9/100], Loss: 0.6972\n",
      "Epoch [10/100], Loss: 0.6905\n",
      "Epoch [11/100], Loss: 0.6865\n",
      "Epoch [12/100], Loss: 0.6938\n",
      "Epoch [13/100], Loss: 0.6895\n",
      "Epoch [14/100], Loss: 0.6997\n",
      "Epoch [15/100], Loss: 0.6921\n",
      "Epoch [16/100], Loss: 0.6812\n",
      "Epoch [17/100], Loss: 0.6904\n",
      "Epoch [18/100], Loss: 0.6920\n",
      "Epoch [19/100], Loss: 0.6819\n",
      "Epoch [20/100], Loss: 0.6741\n",
      "Epoch [21/100], Loss: 0.7051\n",
      "Epoch [22/100], Loss: 0.6930\n",
      "Epoch [23/100], Loss: 0.6964\n",
      "Epoch [24/100], Loss: 0.6825\n",
      "Epoch [25/100], Loss: 0.6893\n",
      "Epoch [26/100], Loss: 0.6854\n",
      "Epoch [27/100], Loss: 0.6957\n",
      "Epoch [28/100], Loss: 0.6905\n",
      "Epoch [29/100], Loss: 0.6810\n",
      "Epoch [30/100], Loss: 0.6707\n",
      "Epoch [31/100], Loss: 0.6786\n",
      "Epoch [32/100], Loss: 0.6960\n",
      "Epoch [33/100], Loss: 0.7030\n",
      "Epoch [34/100], Loss: 0.6782\n",
      "Epoch [35/100], Loss: 0.6546\n",
      "Epoch [36/100], Loss: 0.6691\n",
      "Epoch [37/100], Loss: 0.6814\n",
      "Epoch [38/100], Loss: 0.6897\n",
      "Epoch [39/100], Loss: 0.6899\n",
      "Epoch [40/100], Loss: 0.6956\n",
      "Epoch [41/100], Loss: 0.6919\n",
      "Epoch [42/100], Loss: 0.6726\n",
      "Epoch [43/100], Loss: 0.6753\n",
      "Epoch [44/100], Loss: 0.6820\n",
      "Epoch [45/100], Loss: 0.6619\n",
      "Epoch [46/100], Loss: 0.6881\n",
      "Epoch [47/100], Loss: 0.6792\n",
      "Epoch [48/100], Loss: 0.6829\n",
      "Epoch [49/100], Loss: 0.6823\n",
      "Epoch [50/100], Loss: 0.6830\n",
      "Epoch [51/100], Loss: 0.6845\n",
      "Epoch [52/100], Loss: 0.6920\n",
      "Epoch [53/100], Loss: 0.6856\n",
      "Epoch [54/100], Loss: 0.6489\n",
      "Epoch [55/100], Loss: 0.6651\n",
      "Epoch [56/100], Loss: 0.7058\n",
      "Epoch [57/100], Loss: 0.7146\n",
      "Epoch [58/100], Loss: 0.6766\n",
      "Epoch [59/100], Loss: 0.6581\n",
      "Epoch [60/100], Loss: 0.6639\n",
      "Epoch [61/100], Loss: 0.6975\n",
      "Epoch [62/100], Loss: 0.6743\n",
      "Epoch [63/100], Loss: 0.6682\n",
      "Epoch [64/100], Loss: 0.6771\n",
      "Epoch [65/100], Loss: 0.6651\n",
      "Epoch [66/100], Loss: 0.6881\n",
      "Epoch [67/100], Loss: 0.6889\n",
      "Epoch [68/100], Loss: 0.6875\n",
      "Epoch [69/100], Loss: 0.6825\n",
      "Epoch [70/100], Loss: 0.6794\n",
      "Epoch [71/100], Loss: 0.6846\n",
      "Epoch [72/100], Loss: 0.6963\n",
      "Epoch [73/100], Loss: 0.6869\n",
      "Epoch [74/100], Loss: 0.6551\n",
      "Epoch [75/100], Loss: 0.7436\n",
      "Epoch [76/100], Loss: 0.6819\n",
      "Epoch [77/100], Loss: 0.6835\n",
      "Epoch [78/100], Loss: 0.6956\n",
      "Epoch [79/100], Loss: 0.6736\n",
      "Epoch [80/100], Loss: 0.6773\n",
      "Epoch [81/100], Loss: 0.7141\n",
      "Epoch [82/100], Loss: 0.6906\n",
      "Epoch [83/100], Loss: 0.6967\n",
      "Epoch [84/100], Loss: 0.7058\n",
      "Epoch [85/100], Loss: 0.6525\n",
      "Epoch [86/100], Loss: 0.6669\n",
      "Epoch [87/100], Loss: 0.6777\n",
      "Epoch [88/100], Loss: 0.6619\n",
      "Epoch [89/100], Loss: 0.6505\n",
      "Epoch [90/100], Loss: 0.6276\n",
      "Epoch [91/100], Loss: 0.6970\n",
      "Epoch [92/100], Loss: 0.6983\n",
      "Epoch [93/100], Loss: 0.6277\n",
      "Epoch [94/100], Loss: 0.6844\n",
      "Epoch [95/100], Loss: 0.6582\n",
      "Epoch [96/100], Loss: 0.6552\n",
      "Epoch [97/100], Loss: 0.7128\n",
      "Epoch [98/100], Loss: 0.6678\n",
      "Epoch [99/100], Loss: 0.6778\n",
      "Epoch [100/100], Loss: 0.6700\n"
     ]
    }
   ],
   "source": [
    "def validate(model, val_loader):\n",
    "    # Set the model to evaluation mode\n",
    "    model.eval()  \n",
    "    val_loss = 0.0\n",
    "    correct, total = 0, 0\n",
    "    # Ensure the same loss function is used as training code\n",
    "    criterion = nn.BCEWithLogitsLoss()  \n",
    "\n",
    "    # Disable gradient computation\n",
    "    with torch.no_grad():  \n",
    "        # Load the datasets from the validation pile\n",
    "        for keypoints, labels in val_loader:\n",
    "            keypoints, labels = keypoints.to(device), labels.to(device).float()\n",
    "            # Model inference\n",
    "            outputs = model(keypoints)\n",
    "            \n",
    "            # Accumulate the loss\n",
    "            loss = criterion(outputs, labels.unsqueeze(1))\n",
    "            val_loss += loss.item() * keypoints.size(0)  \n",
    "            \n",
    "            # Calculate accuracy\n",
    "            predicted = torch.round(torch.sigmoid(outputs))\n",
    "            total += labels.size(0)\n",
    "            correct += (predicted.cpu() == labels.cpu().unsqueeze(1)).sum().item()\n",
    "\n",
    "    # Compute the average loss\n",
    "    val_loss /= len(val_loader.dataset)  \n",
    "    val_accuracy = correct / total\n",
    "    return val_loss, val_accuracy\n",
    "\n",
    "###############################################################################\n",
    "\n",
    "num_epochs = 100\n",
    "\n",
    "train_losses = []\n",
    "val_losses = []\n",
    "train_accuracies = []\n",
    "val_accuracies = []\n",
    "\n",
    "# Define loss function and optimiser\n",
    "criterion = nn.BCEWithLogitsLoss()  # Binary Cross-Entropy Loss\n",
    "optimizer = torch.optim.Adam(model_lstm.fc.parameters(), lr=0.0001)\n",
    "\n",
    "# For debugging\n",
    "count = 1\n",
    "\n",
    "###############################################################################\n",
    "\n",
    "for epoch in range(num_epochs):\n",
    "    model_lstm.train()\n",
    "    \n",
    "    running_loss = 0.0\n",
    "    correct = 0\n",
    "    total = 0\n",
    "\n",
    "    for keypoints, labels in train_loader:\n",
    "        inputs, labels = keypoints.to(device), labels.to(device).float()\n",
    "\n",
    "        optimizer.zero_grad()\n",
    "        outputs = model_lstm(inputs)\n",
    "        loss = criterion(outputs, labels.unsqueeze(1).float())\n",
    "        loss.backward()\n",
    "        \n",
    "        optimizer.step()\n",
    "        running_loss += loss.item() * inputs.size(0)\n",
    "        predicted = torch.round(torch.sigmoid(outputs))\n",
    "        total += labels.size(0)\n",
    "        correct += (predicted.cpu() == labels.cpu().unsqueeze(1)).sum().item()\n",
    "        \n",
    "        # For debugging - checking the contrast between predicted values and true labels\n",
    "        if count >= 0:\n",
    "            print(f\"Predicted value: {predicted.cpu()}\")\n",
    "            print(f\"Label: {labels.cpu().unsqueeze(1)}\")\n",
    "            count -= 1\n",
    "\n",
    "    epoch_loss = running_loss / len(train_loader.dataset)\n",
    "    epoch_accuracy = correct / total\n",
    "    train_losses.append(epoch_loss)\n",
    "    train_accuracies.append(epoch_accuracy)\n",
    "\n",
    "    # Validation step\n",
    "    val_loss, val_accuracy = validate(model_lstm, val_loader)\n",
    "    val_losses.append(val_loss)\n",
    "    val_accuracies.append(val_accuracy)\n",
    "    \n",
    "    print(f'Epoch [{epoch+1}/{num_epochs}], Loss: {loss.item():.4f}')\n",
    "    \n",
    "    # Save model weights for every 5 epochs\n",
    "    # if epoch % 5 == 0:\n",
    "    #     torch.save(model_lstm.state_dict(), f'../model_lstm_epoch_{epoch+1}.pth')"
   ]
  },
  {
   "cell_type": "markdown",
   "metadata": {},
   "source": [
    "## Save model weights"
   ]
  },
  {
   "cell_type": "code",
   "execution_count": 91,
   "metadata": {
    "execution": {
     "iopub.execute_input": "2025-04-21T13:15:19.672752Z",
     "iopub.status.busy": "2025-04-21T13:15:19.671332Z",
     "iopub.status.idle": "2025-04-21T13:15:19.686630Z",
     "shell.execute_reply": "2025-04-21T13:15:19.681930Z",
     "shell.execute_reply.started": "2025-04-21T13:15:19.672752Z"
    }
   },
   "outputs": [],
   "source": [
    "torch.save(model_lstm.state_dict(), f'../model_epoch_recent_lstm_data4.pth')"
   ]
  },
  {
   "cell_type": "markdown",
   "metadata": {},
   "source": [
    "## Show training-val loss and accuracy over epochs"
   ]
  },
  {
   "cell_type": "code",
   "execution_count": 92,
   "metadata": {
    "execution": {
     "iopub.execute_input": "2025-04-21T13:15:21.138112Z",
     "iopub.status.busy": "2025-04-21T13:15:21.137755Z",
     "iopub.status.idle": "2025-04-21T13:15:21.598732Z",
     "shell.execute_reply": "2025-04-21T13:15:21.595821Z",
     "shell.execute_reply.started": "2025-04-21T13:15:21.138071Z"
    }
   },
   "outputs": [
    {
     "data": {
      "image/png": "[encoded data removed]",
      "text/plain": [
       "<Figure size 1000x500 with 1 Axes>"
      ]
     },
     "metadata": {},
     "output_type": "display_data"
    },
    {
     "data": {
      "image/png": "[encoded data removed]",
      "text/plain": [
       "<Figure size 1000x500 with 1 Axes>"
      ]
     },
     "metadata": {},
     "output_type": "display_data"
    }
   ],
   "source": [
    "%matplotlib inline\n",
    "\n",
    "# Plot training and validation loss\n",
    "plt.figure(figsize=(10, 5))\n",
    "plt.plot(range(1, num_epochs+1), train_losses, label='Training Loss')\n",
    "plt.plot(range(1, num_epochs+1), val_losses, label='Validation Loss')\n",
    "plt.xlabel('Epochs')\n",
    "plt.ylabel('Loss')\n",
    "plt.legend()\n",
    "plt.title('Training and Validation Loss')\n",
    "plt.show()\n",
    "\n",
    "# Plot training and validation accuracy\n",
    "plt.figure(figsize=(10, 5))\n",
    "plt.plot(range(1, num_epochs+1), train_accuracies, label='Training Accuracy')\n",
    "plt.plot(range(1, num_epochs+1), val_accuracies, label='Validation Accuracy')\n",
    "plt.xlabel('Epochs')\n",
    "plt.ylabel('Accuracy')\n",
    "plt.legend()\n",
    "plt.title('Training and Validation Accuracy')\n",
    "plt.show()\n"
   ]
  },
  {
   "cell_type": "markdown",
   "metadata": {},
   "source": [
    "## Testloader\n",
    "- can be used for unseen dataset\n",
    "- or for the 20% split dataset done earlier"
   ]
  },
  {
   "cell_type": "code",
   "execution_count": 21,
   "metadata": {
    "execution": {
     "iopub.execute_input": "2025-04-22T02:00:50.975801Z",
     "iopub.status.busy": "2025-04-22T02:00:50.975801Z",
     "iopub.status.idle": "2025-04-22T02:06:04.487002Z",
     "shell.execute_reply": "2025-04-22T02:06:04.486161Z",
     "shell.execute_reply.started": "2025-04-22T02:00:50.975801Z"
    }
   },
   "outputs": [
    {
     "name": "stdout",
     "output_type": "stream",
     "text": [
      "Preparing test dataloader...\n",
      "Test dataset compiled...\n",
      "Test dataloader compiled...\n",
      "Test loss: 0.7012654657233252 Test accuracy: 0.4383561643835616\n"
     ]
    }
   ],
   "source": [
    "# Load weights\n",
    "model_lstm.load_state_dict(torch.load('../model_epoch_recent_lstm_data4.pth'))\n",
    "\n",
    "###############################################################################\n",
    "\n",
    "# Use the Dataloader for unseen dataset\n",
    "print(\"Preparing test dataloader...\")\n",
    "\n",
    "video_folder = \"../fight-detection-small\"\n",
    "video_files = [f for f in os.listdir(video_folder) if f.endswith((\".mp4\", \".avi\", \".mov\", \".mpeg\"))]\n",
    "\n",
    "test_dataset = VideoDataset(video_files, video_folder)\n",
    "print(\"Test dataset compiled...\")\n",
    "\n",
    "test_loader = DataLoader(test_dataset, batch_size=32, shuffle=False)\n",
    "print(\"Test dataloader compiled...\")\n",
    "\n",
    "###############################################################################\n",
    "\n",
    "# Set up the testing function\n",
    "def test(model, test_loader=test_loader):\n",
    "    # Set the model to evaluation mode\n",
    "    model.eval()  \n",
    "    test_loss = 0.0\n",
    "    correct, total = 0, 0\n",
    "    \n",
    "    # Ensure the same loss function is used\n",
    "    criterion = nn.BCEWithLogitsLoss()  \n",
    "\n",
    "    # Disable gradient computation\n",
    "    with torch.no_grad():  \n",
    "        for keypoints, labels in test_loader:\n",
    "            keypoints, labels = keypoints.to(device), labels.to(device).float()\n",
    "            # Model inference\n",
    "            outputs = model(keypoints)\n",
    "            predicted = torch.round(torch.sigmoid(outputs))\n",
    "            # Chose this if custom threshold is needed\n",
    "            # threshold = 0.3\n",
    "            # predicted = (outputs > threshold).float()\n",
    "\n",
    "            \n",
    "            # Accumulate the loss\n",
    "            loss = criterion(outputs, labels.unsqueeze(1))\n",
    "            test_loss += loss.item() * keypoints.size(0)  \n",
    "            \n",
    "            # Calculate accuracy\n",
    "            total += labels.size(0)\n",
    "            correct += (predicted.cpu() == labels.cpu().unsqueeze(1)).sum().item()\n",
    "\n",
    "    # Compute the average loss\n",
    "    test_loss /= len(test_loader.dataset)  \n",
    "    test_accuracy = correct / total\n",
    "    return test_loss, test_accuracy\n",
    "\n",
    "###############################################################################\n",
    "\n",
    "# Call the test function and test it via the the test_loader\n",
    "test_loss, test_accuracy = test(model_lstm)\n",
    "print(f\"Test loss: {test_loss} Test accuracy: {test_accuracy}\")"
   ]
  },
  {
   "cell_type": "markdown",
   "metadata": {},
   "source": [
    "## Basic inference and testing - for one video file"
   ]
  },
  {
   "cell_type": "code",
   "execution_count": 33,
   "metadata": {
    "execution": {
     "iopub.execute_input": "2025-04-22T02:16:23.411540Z",
     "iopub.status.busy": "2025-04-22T02:16:23.411540Z",
     "iopub.status.idle": "2025-04-22T02:16:23.484643Z",
     "shell.execute_reply": "2025-04-22T02:16:23.483335Z",
     "shell.execute_reply.started": "2025-04-22T02:16:23.411540Z"
    }
   },
   "outputs": [
    {
     "name": "stdout",
     "output_type": "stream",
     "text": [
      "Video compiled.\n",
      "Video is too short to process or there is not enough footage with a person in it.\n",
      "Video resolution could also be poor that no pose is estimated :(\n"
     ]
    }
   ],
   "source": [
    "# Load weights\n",
    "model_lstm.load_state_dict(torch.load('../model_epoch_recent_lstm_data4.pth'))\n",
    "model_lstm.eval()\n",
    "\n",
    "###############################################################################\n",
    "\n",
    "# Pre-process input --> extract frames\n",
    "# video_path = '../fight-detection-2/V80.mp4'\n",
    "video_path = '../fight-0002.mpeg'\n",
    "\n",
    "########################################################4#######################\n",
    "\n",
    "class Video(Dataset):\n",
    "    def __init__(self, video_path, sequence_len=24):\n",
    "        self.video_path = video_path\n",
    "        self.sequence_len = sequence_len\n",
    "        self.data = self._load_data()\n",
    "\n",
    "    def _load_data(self):\n",
    "        data = []\n",
    "                                            \n",
    "        capture = cv2.VideoCapture(video_path)\n",
    "        fps = int(capture.get(cv2.CAP_PROP_FPS))\n",
    "        total_frames = int(capture.get(cv2.CAP_PROP_FRAME_COUNT))\n",
    "             \n",
    "        frames = []\n",
    "        # for idx in range(0, total_frames, fps): # use this to sample one frame per second\n",
    "        for idx in range(0, total_frames, 2): # use this to sample *most* frames in the video\n",
    "            # Try to process frames\n",
    "            try:\n",
    "                capture.set(cv2.CAP_PROP_POS_FRAMES, idx)\n",
    "                ret, frame = capture.read()\n",
    "                if ret:\n",
    "                    frame_rgb = cv2.cvtColor(frame, cv2.COLOR_BGR2RGB)\n",
    "                    output, image_tensor = infer(frame_rgb)\n",
    "                    _, keypoints = draw_keypoints(output, image_tensor, return_kpts=True)\n",
    "\n",
    "                    if keypoints is not None and keypoints.shape[0] > 0:\n",
    "                        # Only the 17 keypoints\n",
    "                        first_person_kpts = keypoints[0, 7:]  \n",
    "                        # Shape: (17, 3)\n",
    "                        keypoints = first_person_kpts.reshape(-1, 3)  \n",
    "\n",
    "                    else:\n",
    "                        # Pad with zeros if no keypoints\n",
    "                        keypoints = np.zeros((17, 3)) \n",
    "\n",
    "                    # Keep the frames in sequence of length\n",
    "                    frames.append(keypoints)\n",
    "                    print(f\"length of frames: {len(frames)}\")\n",
    "\n",
    "                    # We only want the keypoints in numpy version and labels\n",
    "                    if len(frames) == self.sequence_len:\n",
    "                        data.append(np.array(frames))\n",
    "                        frames = []\n",
    "                        \n",
    "            # If there are errors, skip it\n",
    "            except cv2.error as e:\n",
    "                print(f\"Error processing frame: {e}\")\n",
    "                continue\n",
    "                    \n",
    "            capture.release()\n",
    "        return data\n",
    "    \n",
    "    def __len__(self):\n",
    "        return len(self.data)\n",
    "\n",
    "    def __getitem__(self, idx):\n",
    "        keypoints, label = self.data[idx]\n",
    "        # Convert to torch from numpy\n",
    "        keypoints = torch.from_numpy(keypoints).float()\n",
    "        # Flatten (17, 3) to (51)\n",
    "        keypoints = keypoints.view(self.sequence_len, -1) \n",
    "        return keypoints, label\n",
    "\n",
    "###############################################################################\n",
    "\n",
    "processed_video = Video(video_path)\n",
    "print(\"Video compiled.\")\n",
    "\n",
    "num_processed_frames = len(processed_video)\n",
    "if num_processed_frames == 0:\n",
    "    print(\"Video is too short to process or there is not enough footage with a person in it.\")\n",
    "    print(\"Video resolution could also be poor that no pose is estimated :(\")\n",
    "\n",
    "else:\n",
    "    video_loader = DataLoader(processed_video, batch_size=32, shuffle=False)     \n",
    "    print(\"Video loaded, proceeding to inferencing.\")\n",
    "\n",
    "###############################################################################\n",
    "        \n",
    "    # inference\n",
    "    for index, keypoints in enumerate(video_loader):\n",
    "        keypoints = keypoints.to(device)\n",
    "        outputs = model_lstm(keypoints)\n",
    "        predicted = torch.round(torch.sigmoid(outputs))\n",
    "        print(f\"Predicted result for batch {index+1}: {predicted}\")"
   ]
  },
  {
   "cell_type": "code",
   "execution_count": null,
   "metadata": {},
   "outputs": [],
   "source": []
  }
 ],
 "metadata": {
  "kernelspec": {
   "display_name": "Python 3",
   "language": "python",
   "name": "python3"
  },
  "language_info": {
   "codemirror_mode": {
    "name": "ipython",
    "version": 3
   },
   "file_extension": ".py",
   "mimetype": "text/x-python",
   "name": "python",
   "nbconvert_exporter": "python",
   "pygments_lexer": "ipython3",
   "version": "3.10.0"
  }
 },
 "nbformat": 4,
 "nbformat_minor": 4
}
